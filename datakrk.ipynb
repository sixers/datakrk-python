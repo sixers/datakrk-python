{
 "metadata": {
  "name": "",
  "signature": "sha256:c94154d9a2d8972331e359327099644f7a422f4a04718a9cb45452738a178762"
 },
 "nbformat": 3,
 "nbformat_minor": 0,
 "worksheets": [
  {
   "cells": [
    {
     "cell_type": "markdown",
     "metadata": {},
     "source": [
      "Python for Data Science\n",
      "-----------------------\n",
      "\n",
      "<p>\n",
      "Mateusz Bu\u015bkiewicz, Data Engineer @ <a href=\"https://lab.getbase.com\"><img src=\"https://getbase.com/lib/img/press/logo-mark-horizontal.png\" style=\"display:inline-block; width: 100px; position: relative; top: -1px; left: -10px;\"></a>\n",
      "\n",
      "</p>\n",
      "\n",
      "![](https://www.python.org/static/community_logos/python-logo-master-v3-TM.png)\n",
      "\n",
      "Python combines **human-friendly syntax**, **awesome libraries**, and powerful integrations with **Big Data**: everything the **data scientist** needs. \n",
      "\n",
      "In this talk I will introduce you to Python ecosystem of data science tools and show you how to build **Python-based data products**, from **data wrangling** to **distributed machine learning systems**."
     ]
    },
    {
     "cell_type": "markdown",
     "metadata": {},
     "source": [
      "# Research & development environment"
     ]
    },
    {
     "cell_type": "markdown",
     "metadata": {},
     "source": [
      "- Code & data are strictly linked\n",
      "- You need interactive R&D environment to test your ideas quickly, and present results\n",
      "- But you also want your code to be persistent\n",
      "- Sharing your research is very important\n",
      "\n",
      "\n",
      "**IPython Notebook covers all this requirements.**\n",
      "\n",
      "- Interactive, web Python \"shell\"\n",
      "- Mix of code, outputs, and notes\n",
      "- Auto-save\n",
      "- Re-run arbitrary \"cell\""
     ]
    },
    {
     "cell_type": "code",
     "collapsed": false,
     "input": [
      "range(10)"
     ],
     "language": "python",
     "metadata": {},
     "outputs": [
      {
       "metadata": {},
       "output_type": "pyout",
       "prompt_number": 1,
       "text": [
        "[0, 1, 2, 3, 4, 5, 6, 7, 8, 9]"
       ]
      }
     ],
     "prompt_number": 1
    },
    {
     "cell_type": "code",
     "collapsed": false,
     "input": [
      "l = range(10)\n",
      "squared = map(lambda x: x ** 3, l)"
     ],
     "language": "python",
     "metadata": {},
     "outputs": [],
     "prompt_number": 3
    },
    {
     "cell_type": "code",
     "collapsed": false,
     "input": [
      "print l\n",
      "print squared"
     ],
     "language": "python",
     "metadata": {},
     "outputs": [
      {
       "output_type": "stream",
       "stream": "stdout",
       "text": [
        "[0, 1, 2, 3, 4, 5, 6, 7, 8, 9]\n",
        "[0, 1, 8, 27, 64, 125, 216, 343, 512, 729]\n"
       ]
      }
     ],
     "prompt_number": 4
    },
    {
     "cell_type": "markdown",
     "metadata": {},
     "source": [
      "- This is **Markdown!**\n",
      "\n",
      "$$ x^2 + \\sum_i \\frac{1}{i} $$"
     ]
    },
    {
     "cell_type": "markdown",
     "metadata": {},
     "source": [
      "# Data analysis"
     ]
    },
    {
     "cell_type": "markdown",
     "metadata": {},
     "source": [
      "- Read & parse data in different formats\n",
      "- Manipulate data\n",
      "    - Slice\n",
      "    - Sort\n",
      "    - Aggregate / Compute statistics\n",
      "    - Transform\n",
      "- Visualize data\n",
      "- Export data\n",
      "\n",
      "**Pandas** is great for working with tabular data   \n",
      "There are multiple options for plotting, I mostly use **ggplot** (Yes, Python has ggplot!)"
     ]
    },
    {
     "cell_type": "markdown",
     "metadata": {},
     "source": [
      "Initial imports"
     ]
    },
    {
     "cell_type": "code",
     "collapsed": false,
     "input": [
      "import pandas as pd\n",
      "from ggplot import *\n",
      "import numpy as np\n",
      "%matplotlib inline"
     ],
     "language": "python",
     "metadata": {},
     "outputs": [],
     "prompt_number": 5
    },
    {
     "cell_type": "markdown",
     "metadata": {},
     "source": [
      "We'll use \"Adult\" dataset from UCI Machine Learning Repository.\n",
      "\n",
      "Dataset consists of 2 files:\n",
      "\n",
      "**adult-dataset-data.csv**:\n",
      "\n",
      "- **id** - person identifier\n",
      "- **age** \u2013 The age of the individual\n",
      "- **type_employer** \u2013 The type of employer the individual has. Whether they are government, military, private, an d so on.\n",
      "- **fnlwgt** \u2013 The \\# of people the census takers believe that observation represents. We will be ignoring this variable\n",
      "- **education** \u2013 The highest level of education achieved for that individual\n",
      "- **education_num** \u2013 Highest level of education in numerical form\n",
      "- **marital** \u2013 Marital status of the individual\n",
      "- **occupation** \u2013 The occupation of the individual\n",
      "- **relationship** \u2013 A bit more difficult to explain. Contains family relationship values like husband, father, and so on, but only - contains one per observation. I\u2019m not sure what this is supposed to represent\n",
      "- **race** \u2013 descriptions of the individuals race. Black, White, Eskimo, and so on\n",
      "- **sex** \u2013 Biological Sex\n",
      "- **capital_gain** \u2013 Capital gains recorded\n",
      "- **capital_loss** \u2013 Capital Losses recorded\n",
      "- **hr_per_week** \u2013 Hours worked per week\n",
      "- **country** \u2013 Country of origin for person\n",
      "\n",
      "adult-dataset-labels.csv**:\n",
      "- **id** - person identifier\n",
      "- **income** \u2013 Boolean Variable. Whether or not the person makes more than \\$50,000 per annum income."
     ]
    },
    {
     "cell_type": "markdown",
     "metadata": {},
     "source": [
      "Pandas supports multiple formats"
     ]
    },
    {
     "cell_type": "code",
     "collapsed": false,
     "input": [
      "columns = [\"id\", \"age\", \"workclass\", \"final_weight\", \"education\",\n",
      "           \"education_num\", \"marital_status\",\"occupation\",\n",
      "           \"relationship\", \"race\", \"sex\", \"capital_gain\",\n",
      "           \"capital_loss\", \"hours_per_week\", \"native_country\"]\n",
      "\n",
      "data = pd.read_csv(\"adult-dataset-data.csv\",\n",
      "                   header=None, names=columns)"
     ],
     "language": "python",
     "metadata": {},
     "outputs": [],
     "prompt_number": 6
    },
    {
     "cell_type": "markdown",
     "metadata": {},
     "source": [
      "Let's take a first look at this dataset"
     ]
    },
    {
     "cell_type": "code",
     "collapsed": false,
     "input": [
      "data.head()"
     ],
     "language": "python",
     "metadata": {},
     "outputs": [
      {
       "html": [
        "<div style=\"max-height:1000px;max-width:1500px;overflow:auto;\">\n",
        "<table border=\"1\" class=\"dataframe\">\n",
        "  <thead>\n",
        "    <tr style=\"text-align: right;\">\n",
        "      <th></th>\n",
        "      <th>id</th>\n",
        "      <th>age</th>\n",
        "      <th>workclass</th>\n",
        "      <th>final_weight</th>\n",
        "      <th>education</th>\n",
        "      <th>education_num</th>\n",
        "      <th>marital_status</th>\n",
        "      <th>occupation</th>\n",
        "      <th>relationship</th>\n",
        "      <th>race</th>\n",
        "      <th>sex</th>\n",
        "      <th>capital_gain</th>\n",
        "      <th>capital_loss</th>\n",
        "      <th>hours_per_week</th>\n",
        "      <th>native_country</th>\n",
        "    </tr>\n",
        "  </thead>\n",
        "  <tbody>\n",
        "    <tr>\n",
        "      <th>0</th>\n",
        "      <td> 1</td>\n",
        "      <td> 39</td>\n",
        "      <td>         State-gov</td>\n",
        "      <td>  77516</td>\n",
        "      <td>  Bachelors</td>\n",
        "      <td> 13</td>\n",
        "      <td>       Never-married</td>\n",
        "      <td>       Adm-clerical</td>\n",
        "      <td>  Not-in-family</td>\n",
        "      <td>  White</td>\n",
        "      <td>    Male</td>\n",
        "      <td> 2174</td>\n",
        "      <td> 0</td>\n",
        "      <td> 40</td>\n",
        "      <td>  United-States</td>\n",
        "    </tr>\n",
        "    <tr>\n",
        "      <th>1</th>\n",
        "      <td> 2</td>\n",
        "      <td> 50</td>\n",
        "      <td>  Self-emp-not-inc</td>\n",
        "      <td>  83311</td>\n",
        "      <td>  Bachelors</td>\n",
        "      <td> 13</td>\n",
        "      <td>  Married-civ-spouse</td>\n",
        "      <td>    Exec-managerial</td>\n",
        "      <td>        Husband</td>\n",
        "      <td>  White</td>\n",
        "      <td>    Male</td>\n",
        "      <td>    0</td>\n",
        "      <td> 0</td>\n",
        "      <td> 13</td>\n",
        "      <td>  United-States</td>\n",
        "    </tr>\n",
        "    <tr>\n",
        "      <th>2</th>\n",
        "      <td> 3</td>\n",
        "      <td> 38</td>\n",
        "      <td>           Private</td>\n",
        "      <td> 215646</td>\n",
        "      <td>    HS-grad</td>\n",
        "      <td>  9</td>\n",
        "      <td>            Divorced</td>\n",
        "      <td>  Handlers-cleaners</td>\n",
        "      <td>  Not-in-family</td>\n",
        "      <td>  White</td>\n",
        "      <td>    Male</td>\n",
        "      <td>    0</td>\n",
        "      <td> 0</td>\n",
        "      <td> 40</td>\n",
        "      <td>  United-States</td>\n",
        "    </tr>\n",
        "    <tr>\n",
        "      <th>3</th>\n",
        "      <td> 4</td>\n",
        "      <td> 53</td>\n",
        "      <td>           Private</td>\n",
        "      <td> 234721</td>\n",
        "      <td>       11th</td>\n",
        "      <td>  7</td>\n",
        "      <td>  Married-civ-spouse</td>\n",
        "      <td>  Handlers-cleaners</td>\n",
        "      <td>        Husband</td>\n",
        "      <td>  Black</td>\n",
        "      <td>    Male</td>\n",
        "      <td>    0</td>\n",
        "      <td> 0</td>\n",
        "      <td> 40</td>\n",
        "      <td>  United-States</td>\n",
        "    </tr>\n",
        "    <tr>\n",
        "      <th>4</th>\n",
        "      <td> 5</td>\n",
        "      <td> 28</td>\n",
        "      <td>           Private</td>\n",
        "      <td> 338409</td>\n",
        "      <td>  Bachelors</td>\n",
        "      <td> 13</td>\n",
        "      <td>  Married-civ-spouse</td>\n",
        "      <td>     Prof-specialty</td>\n",
        "      <td>           Wife</td>\n",
        "      <td>  Black</td>\n",
        "      <td>  Female</td>\n",
        "      <td>    0</td>\n",
        "      <td> 0</td>\n",
        "      <td> 40</td>\n",
        "      <td>           Cuba</td>\n",
        "    </tr>\n",
        "  </tbody>\n",
        "</table>\n",
        "</div>"
       ],
       "metadata": {},
       "output_type": "pyout",
       "prompt_number": 7,
       "text": [
        "   id  age          workclass  final_weight   education  education_num  \\\n",
        "0   1   39          State-gov         77516   Bachelors             13   \n",
        "1   2   50   Self-emp-not-inc         83311   Bachelors             13   \n",
        "2   3   38            Private        215646     HS-grad              9   \n",
        "3   4   53            Private        234721        11th              7   \n",
        "4   5   28            Private        338409   Bachelors             13   \n",
        "\n",
        "        marital_status          occupation    relationship    race      sex  \\\n",
        "0        Never-married        Adm-clerical   Not-in-family   White     Male   \n",
        "1   Married-civ-spouse     Exec-managerial         Husband   White     Male   \n",
        "2             Divorced   Handlers-cleaners   Not-in-family   White     Male   \n",
        "3   Married-civ-spouse   Handlers-cleaners         Husband   Black     Male   \n",
        "4   Married-civ-spouse      Prof-specialty            Wife   Black   Female   \n",
        "\n",
        "   capital_gain  capital_loss  hours_per_week  native_country  \n",
        "0          2174             0              40   United-States  \n",
        "1             0             0              13   United-States  \n",
        "2             0             0              40   United-States  \n",
        "3             0             0              40   United-States  \n",
        "4             0             0              40            Cuba  "
       ]
      }
     ],
     "prompt_number": 7
    },
    {
     "cell_type": "markdown",
     "metadata": {},
     "source": [
      "Slicing:\n",
      "- select subset of rows\n",
      "- select subset of columns\n",
      "- boolean slicing (later)"
     ]
    },
    {
     "cell_type": "code",
     "collapsed": false,
     "input": [
      "data[2:4]"
     ],
     "language": "python",
     "metadata": {},
     "outputs": [
      {
       "html": [
        "<div style=\"max-height:1000px;max-width:1500px;overflow:auto;\">\n",
        "<table border=\"1\" class=\"dataframe\">\n",
        "  <thead>\n",
        "    <tr style=\"text-align: right;\">\n",
        "      <th></th>\n",
        "      <th>id</th>\n",
        "      <th>age</th>\n",
        "      <th>workclass</th>\n",
        "      <th>final_weight</th>\n",
        "      <th>education</th>\n",
        "      <th>education_num</th>\n",
        "      <th>marital_status</th>\n",
        "      <th>occupation</th>\n",
        "      <th>relationship</th>\n",
        "      <th>race</th>\n",
        "      <th>sex</th>\n",
        "      <th>capital_gain</th>\n",
        "      <th>capital_loss</th>\n",
        "      <th>hours_per_week</th>\n",
        "      <th>native_country</th>\n",
        "    </tr>\n",
        "  </thead>\n",
        "  <tbody>\n",
        "    <tr>\n",
        "      <th>2</th>\n",
        "      <td> 3</td>\n",
        "      <td> 38</td>\n",
        "      <td>  Private</td>\n",
        "      <td> 215646</td>\n",
        "      <td>  HS-grad</td>\n",
        "      <td> 9</td>\n",
        "      <td>            Divorced</td>\n",
        "      <td>  Handlers-cleaners</td>\n",
        "      <td>  Not-in-family</td>\n",
        "      <td>  White</td>\n",
        "      <td>  Male</td>\n",
        "      <td> 0</td>\n",
        "      <td> 0</td>\n",
        "      <td> 40</td>\n",
        "      <td>  United-States</td>\n",
        "    </tr>\n",
        "    <tr>\n",
        "      <th>3</th>\n",
        "      <td> 4</td>\n",
        "      <td> 53</td>\n",
        "      <td>  Private</td>\n",
        "      <td> 234721</td>\n",
        "      <td>     11th</td>\n",
        "      <td> 7</td>\n",
        "      <td>  Married-civ-spouse</td>\n",
        "      <td>  Handlers-cleaners</td>\n",
        "      <td>        Husband</td>\n",
        "      <td>  Black</td>\n",
        "      <td>  Male</td>\n",
        "      <td> 0</td>\n",
        "      <td> 0</td>\n",
        "      <td> 40</td>\n",
        "      <td>  United-States</td>\n",
        "    </tr>\n",
        "  </tbody>\n",
        "</table>\n",
        "</div>"
       ],
       "metadata": {},
       "output_type": "pyout",
       "prompt_number": 9,
       "text": [
        "   id  age workclass  final_weight education  education_num  \\\n",
        "2   3   38   Private        215646   HS-grad              9   \n",
        "3   4   53   Private        234721      11th              7   \n",
        "\n",
        "        marital_status          occupation    relationship    race    sex  \\\n",
        "2             Divorced   Handlers-cleaners   Not-in-family   White   Male   \n",
        "3   Married-civ-spouse   Handlers-cleaners         Husband   Black   Male   \n",
        "\n",
        "   capital_gain  capital_loss  hours_per_week  native_country  \n",
        "2             0             0              40   United-States  \n",
        "3             0             0              40   United-States  "
       ]
      }
     ],
     "prompt_number": 9
    },
    {
     "cell_type": "code",
     "collapsed": false,
     "input": [
      "data[['age', 'marital_status']].head(3)"
     ],
     "language": "python",
     "metadata": {},
     "outputs": [
      {
       "html": [
        "<div style=\"max-height:1000px;max-width:1500px;overflow:auto;\">\n",
        "<table border=\"1\" class=\"dataframe\">\n",
        "  <thead>\n",
        "    <tr style=\"text-align: right;\">\n",
        "      <th></th>\n",
        "      <th>age</th>\n",
        "      <th>marital_status</th>\n",
        "    </tr>\n",
        "  </thead>\n",
        "  <tbody>\n",
        "    <tr>\n",
        "      <th>0</th>\n",
        "      <td> 39</td>\n",
        "      <td>       Never-married</td>\n",
        "    </tr>\n",
        "    <tr>\n",
        "      <th>1</th>\n",
        "      <td> 50</td>\n",
        "      <td>  Married-civ-spouse</td>\n",
        "    </tr>\n",
        "    <tr>\n",
        "      <th>2</th>\n",
        "      <td> 38</td>\n",
        "      <td>            Divorced</td>\n",
        "    </tr>\n",
        "  </tbody>\n",
        "</table>\n",
        "</div>"
       ],
       "metadata": {},
       "output_type": "pyout",
       "prompt_number": 10,
       "text": [
        "   age       marital_status\n",
        "0   39        Never-married\n",
        "1   50   Married-civ-spouse\n",
        "2   38             Divorced"
       ]
      }
     ],
     "prompt_number": 10
    },
    {
     "cell_type": "code",
     "collapsed": false,
     "input": [
      "data.loc[2:4, ['age', 'marital_status']]"
     ],
     "language": "python",
     "metadata": {},
     "outputs": [
      {
       "html": [
        "<div style=\"max-height:1000px;max-width:1500px;overflow:auto;\">\n",
        "<table border=\"1\" class=\"dataframe\">\n",
        "  <thead>\n",
        "    <tr style=\"text-align: right;\">\n",
        "      <th></th>\n",
        "      <th>age</th>\n",
        "      <th>marital_status</th>\n",
        "    </tr>\n",
        "  </thead>\n",
        "  <tbody>\n",
        "    <tr>\n",
        "      <th>2</th>\n",
        "      <td> 38</td>\n",
        "      <td>            Divorced</td>\n",
        "    </tr>\n",
        "    <tr>\n",
        "      <th>3</th>\n",
        "      <td> 53</td>\n",
        "      <td>  Married-civ-spouse</td>\n",
        "    </tr>\n",
        "    <tr>\n",
        "      <th>4</th>\n",
        "      <td> 28</td>\n",
        "      <td>  Married-civ-spouse</td>\n",
        "    </tr>\n",
        "  </tbody>\n",
        "</table>\n",
        "</div>"
       ],
       "metadata": {},
       "output_type": "pyout",
       "prompt_number": 11,
       "text": [
        "   age       marital_status\n",
        "2   38             Divorced\n",
        "3   53   Married-civ-spouse\n",
        "4   28   Married-civ-spouse"
       ]
      }
     ],
     "prompt_number": 11
    },
    {
     "cell_type": "markdown",
     "metadata": {},
     "source": [
      "Let's analyze some variables."
     ]
    },
    {
     "cell_type": "markdown",
     "metadata": {},
     "source": [
      "`describe` shows summary statistics about variable"
     ]
    },
    {
     "cell_type": "code",
     "collapsed": false,
     "input": [
      "data.age.describe()"
     ],
     "language": "python",
     "metadata": {},
     "outputs": [
      {
       "metadata": {},
       "output_type": "pyout",
       "prompt_number": 12,
       "text": [
        "count    32561.000000\n",
        "mean        38.581647\n",
        "std         13.640433\n",
        "min         17.000000\n",
        "25%         28.000000\n",
        "50%         37.000000\n",
        "75%         48.000000\n",
        "max         90.000000\n",
        "dtype: float64"
       ]
      }
     ],
     "prompt_number": 12
    },
    {
     "cell_type": "markdown",
     "metadata": {},
     "source": [
      "Basic plotting with ggplot is very easy"
     ]
    },
    {
     "cell_type": "code",
     "collapsed": false,
     "input": [
      "ggplot(data, aes(x='age')) + geom_histogram(binwidth=1)"
     ],
     "language": "python",
     "metadata": {},
     "outputs": [
      {
       "metadata": {},
       "output_type": "display_data",
       "png": "[encoded data removed]",
       "text": [
        "<matplotlib.figure.Figure at 0x7fefdefde850>"
       ]
      },
      {
       "metadata": {},
       "output_type": "pyout",
       "prompt_number": 14,
       "text": [
        "<ggplot: (8791763465273)>"
       ]
      }
     ],
     "prompt_number": 14
    },
    {
     "cell_type": "markdown",
     "metadata": {},
     "source": [
      "Is this a normal distribution? Maybe Log-normal distribution?"
     ]
    },
    {
     "cell_type": "code",
     "collapsed": false,
     "input": [
      "ggplot(data, aes(x='age')) + geom_density() + scale_x_log()"
     ],
     "language": "python",
     "metadata": {},
     "outputs": [
      {
       "metadata": {},
       "output_type": "display_data",
       "png": "[encoded data removed]",
       "text": [
        "<matplotlib.figure.Figure at 0x7fefde624050>"
       ]
      },
      {
       "metadata": {},
       "output_type": "pyout",
       "prompt_number": 15,
       "text": [
        "<ggplot: (8791762806013)>"
       ]
      }
     ],
     "prompt_number": 15
    },
    {
     "cell_type": "markdown",
     "metadata": {},
     "source": [
      "Neither normal or log-normal, we should explore this futher."
     ]
    },
    {
     "cell_type": "markdown",
     "metadata": {},
     "source": [
      "For categorical variables, most useful function is `value_counts`"
     ]
    },
    {
     "cell_type": "code",
     "collapsed": false,
     "input": [
      "data.workclass.value_counts()"
     ],
     "language": "python",
     "metadata": {},
     "outputs": [
      {
       "metadata": {},
       "output_type": "pyout",
       "prompt_number": 17,
       "text": [
        " Private             22696\n",
        " Self-emp-not-inc     2541\n",
        " Local-gov            2093\n",
        " ?                    1836\n",
        " State-gov            1298\n",
        " Self-emp-inc         1116\n",
        " Federal-gov           960\n",
        " Without-pay            14\n",
        " Never-worked            7\n",
        "dtype: int64"
       ]
      }
     ],
     "prompt_number": 17
    },
    {
     "cell_type": "markdown",
     "metadata": {},
     "source": [
      "We'll merge some of the values"
     ]
    },
    {
     "cell_type": "code",
     "collapsed": false,
     "input": [
      "data_cleaned = data.copy()"
     ],
     "language": "python",
     "metadata": {},
     "outputs": [],
     "prompt_number": 18
    },
    {
     "cell_type": "code",
     "collapsed": false,
     "input": [
      "data_cleaned['workclass'] = data.workclass.map(str.strip).replace({'Self-emp-not-inc': 'Self-employed', 'Self-emp-inc': 'Self-employed',\n",
      "                    'Local-gov': 'Goverment', 'State-gov': 'Goverment', \"Without-pay\": \"Unemployed\",\n",
      "                    \"Never-worked\": \"Unemployed\"})\n",
      "\n",
      "data_cleaned['workclass'].value_counts()"
     ],
     "language": "python",
     "metadata": {},
     "outputs": [
      {
       "metadata": {},
       "output_type": "pyout",
       "prompt_number": 19,
       "text": [
        "Private          22696\n",
        "Self-employed     3657\n",
        "Goverment         3391\n",
        "?                 1836\n",
        "Federal-gov        960\n",
        "Unemployed          21\n",
        "dtype: int64"
       ]
      }
     ],
     "prompt_number": 19
    },
    {
     "cell_type": "code",
     "collapsed": false,
     "input": [
      "data.marital_status.value_counts()"
     ],
     "language": "python",
     "metadata": {},
     "outputs": [
      {
       "metadata": {},
       "output_type": "pyout",
       "prompt_number": 20,
       "text": [
        " Married-civ-spouse       14976\n",
        " Never-married            10683\n",
        " Divorced                  4443\n",
        " Separated                 1025\n",
        " Widowed                    993\n",
        " Married-spouse-absent      418\n",
        " Married-AF-spouse           23\n",
        "dtype: int64"
       ]
      }
     ],
     "prompt_number": 20
    },
    {
     "cell_type": "code",
     "collapsed": false,
     "input": [
      "def replace_marital_status(marital_status):\n",
      "    if marital_status.startswith(\"Married\"):\n",
      "        return \"Married\"\n",
      "    elif marital_status in [\"Divorced\", \"Separated\"]:\n",
      "        return \"Not-married\"\n",
      "    else:\n",
      "        return marital_status\n",
      "    \n",
      "data_cleaned['marital_status'] = data.marital_status.map(str.strip).map(replace_marital_status)\n",
      "data_cleaned['marital_status'].value_counts()"
     ],
     "language": "python",
     "metadata": {},
     "outputs": [
      {
       "metadata": {},
       "output_type": "pyout",
       "prompt_number": 21,
       "text": [
        "Married          15417\n",
        "Never-married    10683\n",
        "Not-married       5468\n",
        "Widowed            993\n",
        "dtype: int64"
       ]
      }
     ],
     "prompt_number": 21
    },
    {
     "cell_type": "code",
     "collapsed": false,
     "input": [
      "columns = [\"id\", \"label\"]\n",
      "labels = pd.read_csv(\"adult-dataset-labels.csv\",\n",
      "                   header=None, names=[\"id\", \"label\"])\n",
      "labels.head(n=3)"
     ],
     "language": "python",
     "metadata": {},
     "outputs": [
      {
       "html": [
        "<div style=\"max-height:1000px;max-width:1500px;overflow:auto;\">\n",
        "<table border=\"1\" class=\"dataframe\">\n",
        "  <thead>\n",
        "    <tr style=\"text-align: right;\">\n",
        "      <th></th>\n",
        "      <th>id</th>\n",
        "      <th>label</th>\n",
        "    </tr>\n",
        "  </thead>\n",
        "  <tbody>\n",
        "    <tr>\n",
        "      <th>0</th>\n",
        "      <td> 1</td>\n",
        "      <td>  &lt;=50K</td>\n",
        "    </tr>\n",
        "    <tr>\n",
        "      <th>1</th>\n",
        "      <td> 2</td>\n",
        "      <td>  &lt;=50K</td>\n",
        "    </tr>\n",
        "    <tr>\n",
        "      <th>2</th>\n",
        "      <td> 3</td>\n",
        "      <td>  &lt;=50K</td>\n",
        "    </tr>\n",
        "  </tbody>\n",
        "</table>\n",
        "</div>"
       ],
       "metadata": {},
       "output_type": "pyout",
       "prompt_number": 24,
       "text": [
        "   id   label\n",
        "0   1   <=50K\n",
        "1   2   <=50K\n",
        "2   3   <=50K"
       ]
      }
     ],
     "prompt_number": 24
    },
    {
     "cell_type": "code",
     "collapsed": false,
     "input": [
      "data_cleaned.head(n=3)"
     ],
     "language": "python",
     "metadata": {},
     "outputs": [
      {
       "html": [
        "<div style=\"max-height:1000px;max-width:1500px;overflow:auto;\">\n",
        "<table border=\"1\" class=\"dataframe\">\n",
        "  <thead>\n",
        "    <tr style=\"text-align: right;\">\n",
        "      <th></th>\n",
        "      <th>id</th>\n",
        "      <th>age</th>\n",
        "      <th>workclass</th>\n",
        "      <th>final_weight</th>\n",
        "      <th>education</th>\n",
        "      <th>education_num</th>\n",
        "      <th>marital_status</th>\n",
        "      <th>occupation</th>\n",
        "      <th>relationship</th>\n",
        "      <th>race</th>\n",
        "      <th>sex</th>\n",
        "      <th>capital_gain</th>\n",
        "      <th>capital_loss</th>\n",
        "      <th>hours_per_week</th>\n",
        "      <th>native_country</th>\n",
        "    </tr>\n",
        "  </thead>\n",
        "  <tbody>\n",
        "    <tr>\n",
        "      <th>0</th>\n",
        "      <td> 1</td>\n",
        "      <td> 39</td>\n",
        "      <td>     Goverment</td>\n",
        "      <td>  77516</td>\n",
        "      <td>  Bachelors</td>\n",
        "      <td> 13</td>\n",
        "      <td> Never-married</td>\n",
        "      <td>       Adm-clerical</td>\n",
        "      <td>  Not-in-family</td>\n",
        "      <td>  White</td>\n",
        "      <td>  Male</td>\n",
        "      <td> 2174</td>\n",
        "      <td> 0</td>\n",
        "      <td> 40</td>\n",
        "      <td>  United-States</td>\n",
        "    </tr>\n",
        "    <tr>\n",
        "      <th>1</th>\n",
        "      <td> 2</td>\n",
        "      <td> 50</td>\n",
        "      <td> Self-employed</td>\n",
        "      <td>  83311</td>\n",
        "      <td>  Bachelors</td>\n",
        "      <td> 13</td>\n",
        "      <td>       Married</td>\n",
        "      <td>    Exec-managerial</td>\n",
        "      <td>        Husband</td>\n",
        "      <td>  White</td>\n",
        "      <td>  Male</td>\n",
        "      <td>    0</td>\n",
        "      <td> 0</td>\n",
        "      <td> 13</td>\n",
        "      <td>  United-States</td>\n",
        "    </tr>\n",
        "    <tr>\n",
        "      <th>2</th>\n",
        "      <td> 3</td>\n",
        "      <td> 38</td>\n",
        "      <td>       Private</td>\n",
        "      <td> 215646</td>\n",
        "      <td>    HS-grad</td>\n",
        "      <td>  9</td>\n",
        "      <td>   Not-married</td>\n",
        "      <td>  Handlers-cleaners</td>\n",
        "      <td>  Not-in-family</td>\n",
        "      <td>  White</td>\n",
        "      <td>  Male</td>\n",
        "      <td>    0</td>\n",
        "      <td> 0</td>\n",
        "      <td> 40</td>\n",
        "      <td>  United-States</td>\n",
        "    </tr>\n",
        "  </tbody>\n",
        "</table>\n",
        "</div>"
       ],
       "metadata": {},
       "output_type": "pyout",
       "prompt_number": 25,
       "text": [
        "   id  age      workclass  final_weight   education  education_num  \\\n",
        "0   1   39      Goverment         77516   Bachelors             13   \n",
        "1   2   50  Self-employed         83311   Bachelors             13   \n",
        "2   3   38        Private        215646     HS-grad              9   \n",
        "\n",
        "  marital_status          occupation    relationship    race    sex  \\\n",
        "0  Never-married        Adm-clerical   Not-in-family   White   Male   \n",
        "1        Married     Exec-managerial         Husband   White   Male   \n",
        "2    Not-married   Handlers-cleaners   Not-in-family   White   Male   \n",
        "\n",
        "   capital_gain  capital_loss  hours_per_week  native_country  \n",
        "0          2174             0              40   United-States  \n",
        "1             0             0              13   United-States  \n",
        "2             0             0              40   United-States  "
       ]
      }
     ],
     "prompt_number": 25
    },
    {
     "cell_type": "markdown",
     "metadata": {},
     "source": [
      "We can merge datasets based on column (join-key)"
     ]
    },
    {
     "cell_type": "code",
     "collapsed": false,
     "input": [
      "data_with_labels = data_cleaned.merge(labels, on='id')\n",
      "data_with_labels.head(n=3)"
     ],
     "language": "python",
     "metadata": {},
     "outputs": [
      {
       "html": [
        "<div style=\"max-height:1000px;max-width:1500px;overflow:auto;\">\n",
        "<table border=\"1\" class=\"dataframe\">\n",
        "  <thead>\n",
        "    <tr style=\"text-align: right;\">\n",
        "      <th></th>\n",
        "      <th>id</th>\n",
        "      <th>age</th>\n",
        "      <th>workclass</th>\n",
        "      <th>final_weight</th>\n",
        "      <th>education</th>\n",
        "      <th>education_num</th>\n",
        "      <th>marital_status</th>\n",
        "      <th>occupation</th>\n",
        "      <th>relationship</th>\n",
        "      <th>race</th>\n",
        "      <th>sex</th>\n",
        "      <th>capital_gain</th>\n",
        "      <th>capital_loss</th>\n",
        "      <th>hours_per_week</th>\n",
        "      <th>native_country</th>\n",
        "      <th>label</th>\n",
        "    </tr>\n",
        "  </thead>\n",
        "  <tbody>\n",
        "    <tr>\n",
        "      <th>0</th>\n",
        "      <td> 1</td>\n",
        "      <td> 39</td>\n",
        "      <td>     Goverment</td>\n",
        "      <td>  77516</td>\n",
        "      <td>  Bachelors</td>\n",
        "      <td> 13</td>\n",
        "      <td> Never-married</td>\n",
        "      <td>       Adm-clerical</td>\n",
        "      <td>  Not-in-family</td>\n",
        "      <td>  White</td>\n",
        "      <td>  Male</td>\n",
        "      <td> 2174</td>\n",
        "      <td> 0</td>\n",
        "      <td> 40</td>\n",
        "      <td>  United-States</td>\n",
        "      <td>  &lt;=50K</td>\n",
        "    </tr>\n",
        "    <tr>\n",
        "      <th>1</th>\n",
        "      <td> 2</td>\n",
        "      <td> 50</td>\n",
        "      <td> Self-employed</td>\n",
        "      <td>  83311</td>\n",
        "      <td>  Bachelors</td>\n",
        "      <td> 13</td>\n",
        "      <td>       Married</td>\n",
        "      <td>    Exec-managerial</td>\n",
        "      <td>        Husband</td>\n",
        "      <td>  White</td>\n",
        "      <td>  Male</td>\n",
        "      <td>    0</td>\n",
        "      <td> 0</td>\n",
        "      <td> 13</td>\n",
        "      <td>  United-States</td>\n",
        "      <td>  &lt;=50K</td>\n",
        "    </tr>\n",
        "    <tr>\n",
        "      <th>2</th>\n",
        "      <td> 3</td>\n",
        "      <td> 38</td>\n",
        "      <td>       Private</td>\n",
        "      <td> 215646</td>\n",
        "      <td>    HS-grad</td>\n",
        "      <td>  9</td>\n",
        "      <td>   Not-married</td>\n",
        "      <td>  Handlers-cleaners</td>\n",
        "      <td>  Not-in-family</td>\n",
        "      <td>  White</td>\n",
        "      <td>  Male</td>\n",
        "      <td>    0</td>\n",
        "      <td> 0</td>\n",
        "      <td> 40</td>\n",
        "      <td>  United-States</td>\n",
        "      <td>  &lt;=50K</td>\n",
        "    </tr>\n",
        "  </tbody>\n",
        "</table>\n",
        "</div>"
       ],
       "metadata": {},
       "output_type": "pyout",
       "prompt_number": 26,
       "text": [
        "   id  age      workclass  final_weight   education  education_num  \\\n",
        "0   1   39      Goverment         77516   Bachelors             13   \n",
        "1   2   50  Self-employed         83311   Bachelors             13   \n",
        "2   3   38        Private        215646     HS-grad              9   \n",
        "\n",
        "  marital_status          occupation    relationship    race    sex  \\\n",
        "0  Never-married        Adm-clerical   Not-in-family   White   Male   \n",
        "1        Married     Exec-managerial         Husband   White   Male   \n",
        "2    Not-married   Handlers-cleaners   Not-in-family   White   Male   \n",
        "\n",
        "   capital_gain  capital_loss  hours_per_week  native_country   label  \n",
        "0          2174             0              40   United-States   <=50K  \n",
        "1             0             0              13   United-States   <=50K  \n",
        "2             0             0              40   United-States   <=50K  "
       ]
      }
     ],
     "prompt_number": 26
    },
    {
     "cell_type": "code",
     "collapsed": false,
     "input": [
      "data_with_labels.label.value_counts(normalize=True)"
     ],
     "language": "python",
     "metadata": {},
     "outputs": [
      {
       "metadata": {},
       "output_type": "pyout",
       "prompt_number": 27,
       "text": [
        " <=50K    0.75919\n",
        " >50K     0.24081\n",
        "dtype: float64"
       ]
      }
     ],
     "prompt_number": 27
    },
    {
     "cell_type": "markdown",
     "metadata": {},
     "source": [
      "Let's test if sex is important factor in predicting income."
     ]
    },
    {
     "cell_type": "code",
     "collapsed": false,
     "input": [
      "data.sex.value_counts()"
     ],
     "language": "python",
     "metadata": {},
     "outputs": [
      {
       "metadata": {},
       "output_type": "pyout",
       "prompt_number": 28,
       "text": [
        " Male      21790\n",
        " Female    10771\n",
        "dtype: int64"
       ]
      }
     ],
     "prompt_number": 28
    },
    {
     "cell_type": "code",
     "collapsed": false,
     "input": [
      "data_with_labels.groupby('sex').label.value_counts(normalize=True)"
     ],
     "language": "python",
     "metadata": {},
     "outputs": [
      {
       "metadata": {},
       "output_type": "pyout",
       "prompt_number": 29,
       "text": [
        "sex            \n",
        " Female   <=50K    0.890539\n",
        "          >50K     0.109461\n",
        " Male     <=50K    0.694263\n",
        "          >50K     0.305737\n",
        "dtype: float64"
       ]
      }
     ],
     "prompt_number": 29
    },
    {
     "cell_type": "code",
     "collapsed": false,
     "input": [
      "from IPython.html import widgets\n",
      "from IPython.display import display\n",
      "\n",
      "def plot_scatter(age):\n",
      "    data_filter_age = data_with_labels[data_with_labels.age > age].reset_index(drop=True)\n",
      "    print ggplot(data_filter_age, \n",
      "           aes(x='age', y='hours_per_week', color='sex')\n",
      "           ) + geom_point(alpha=0.1)\n",
      "\n",
      "widgets.interact(plot_scatter, age=[16,100,1])"
     ],
     "language": "python",
     "metadata": {},
     "outputs": [
      {
       "metadata": {},
       "output_type": "display_data",
       "png": "[encoded data removed]",
       "text": [
        "<matplotlib.figure.Figure at 0x7fefddd2ce90>"
       ]
      },
      {
       "output_type": "stream",
       "stream": "stdout",
       "text": [
        "<ggplot: (8791762218225)>\n"
       ]
      },
      {
       "metadata": {},
       "output_type": "pyout",
       "prompt_number": 30,
       "text": [
        "<function __main__.plot_scatter>"
       ]
      }
     ],
     "prompt_number": 30
    },
    {
     "cell_type": "code",
     "collapsed": false,
     "input": [
      "females = data_with_labels[data_with_labels.sex == ' Female']\n",
      "\n",
      "print \"Females after 30\"\n",
      "print females[females.age > 30].hours_per_week.describe()\n",
      "\n",
      "print \n",
      "print \"Females before 30\"\n",
      "print females[females.age <= 30].hours_per_week.describe()"
     ],
     "language": "python",
     "metadata": {},
     "outputs": [
      {
       "output_type": "stream",
       "stream": "stdout",
       "text": [
        "Females after 30\n",
        "count    6512.000000\n",
        "mean       38.042690\n",
        "std        11.390111\n",
        "min         1.000000\n",
        "25%        35.000000\n",
        "50%        40.000000\n",
        "75%        40.000000\n",
        "max        99.000000\n",
        "dtype: float64\n",
        "\n",
        "Females before 30\n",
        "count    4259.000000\n",
        "mean       33.914534\n",
        "std        12.007365\n",
        "min         2.000000\n",
        "25%        25.000000\n",
        "50%        40.000000\n",
        "75%        40.000000\n",
        "max        99.000000\n",
        "dtype: float64\n"
       ]
      }
     ],
     "prompt_number": 31
    },
    {
     "cell_type": "code",
     "collapsed": false,
     "input": [
      "ggplot(data, aes(x='capital_gain')) + geom_histogram()"
     ],
     "language": "python",
     "metadata": {},
     "outputs": [
      {
       "metadata": {},
       "output_type": "display_data",
       "png": "[encoded data removed]",
       "text": [
        "<matplotlib.figure.Figure at 0x7fefdc021350>"
       ]
      },
      {
       "metadata": {},
       "output_type": "pyout",
       "prompt_number": 33,
       "text": [
        "<ggplot: (8791760320961)>"
       ]
      }
     ],
     "prompt_number": 33
    },
    {
     "cell_type": "markdown",
     "metadata": {},
     "source": [
      "It doesn't makse sense to treat is as numerical variable, we'll convert it to binary feature."
     ]
    },
    {
     "cell_type": "code",
     "collapsed": false,
     "input": [
      "data_with_labels['capital_gain_boolean'] = \\\n",
      "    data_with_labels.capital_gain > 0\n",
      "data_with_labels['capital_loss_boolean'] = \\\n",
      "    data_with_labels.capital_loss > 0\n",
      "    \n",
      "print data_with_labels['capital_gain_boolean'].value_counts()\n",
      "print\n",
      "print data_with_labels['capital_loss_boolean'].value_counts()"
     ],
     "language": "python",
     "metadata": {},
     "outputs": [
      {
       "output_type": "stream",
       "stream": "stdout",
       "text": [
        "False    29849\n",
        "True      2712\n",
        "dtype: int64\n",
        "\n",
        "False    31042\n",
        "True      1519\n",
        "dtype: int64\n"
       ]
      }
     ],
     "prompt_number": 35
    },
    {
     "cell_type": "markdown",
     "metadata": {},
     "source": [
      "Pandas && ggplot can do much more!\n",
      "\n",
      "- http://pandas.pydata.org/\n",
      "- http://ggplot.yhathq.com/"
     ]
    },
    {
     "cell_type": "markdown",
     "metadata": {},
     "source": [
      "# Machine learning"
     ]
    },
    {
     "cell_type": "markdown",
     "metadata": {},
     "source": [
      "What do we need from Machile Learning library:\n",
      "\n",
      "- Library of Machine Learning algorithms\n",
      "- Simple to use\n",
      "- Data preprocessing\n",
      "- Training\n",
      "- Validation / test-train split / Cross-validation\n",
      "- Grid search of attributes\n",
      "- Model persistence\n",
      "\n",
      "**Scikit-learn** is very powerful ML library with very simple interface"
     ]
    },
    {
     "cell_type": "markdown",
     "metadata": {},
     "source": [
      "We need numerical data for machine learning\n",
      "\n",
      "- How to transform categorical variables?\n",
      "- How to transform continuous variables?"
     ]
    },
    {
     "cell_type": "code",
     "collapsed": false,
     "input": [
      "pd.get_dummies(data_with_labels.workclass, prefix='workclass').head(n=3)"
     ],
     "language": "python",
     "metadata": {},
     "outputs": [
      {
       "html": [
        "<div style=\"max-height:1000px;max-width:1500px;overflow:auto;\">\n",
        "<table border=\"1\" class=\"dataframe\">\n",
        "  <thead>\n",
        "    <tr style=\"text-align: right;\">\n",
        "      <th></th>\n",
        "      <th>workclass_?</th>\n",
        "      <th>workclass_Federal-gov</th>\n",
        "      <th>workclass_Goverment</th>\n",
        "      <th>workclass_Private</th>\n",
        "      <th>workclass_Self-employed</th>\n",
        "      <th>workclass_Unemployed</th>\n",
        "    </tr>\n",
        "  </thead>\n",
        "  <tbody>\n",
        "    <tr>\n",
        "      <th>0</th>\n",
        "      <td> 0</td>\n",
        "      <td> 0</td>\n",
        "      <td> 1</td>\n",
        "      <td> 0</td>\n",
        "      <td> 0</td>\n",
        "      <td> 0</td>\n",
        "    </tr>\n",
        "    <tr>\n",
        "      <th>1</th>\n",
        "      <td> 0</td>\n",
        "      <td> 0</td>\n",
        "      <td> 0</td>\n",
        "      <td> 0</td>\n",
        "      <td> 1</td>\n",
        "      <td> 0</td>\n",
        "    </tr>\n",
        "    <tr>\n",
        "      <th>2</th>\n",
        "      <td> 0</td>\n",
        "      <td> 0</td>\n",
        "      <td> 0</td>\n",
        "      <td> 1</td>\n",
        "      <td> 0</td>\n",
        "      <td> 0</td>\n",
        "    </tr>\n",
        "  </tbody>\n",
        "</table>\n",
        "</div>"
       ],
       "metadata": {},
       "output_type": "pyout",
       "prompt_number": 36,
       "text": [
        "   workclass_?  workclass_Federal-gov  workclass_Goverment  workclass_Private  \\\n",
        "0            0                      0                    1                  0   \n",
        "1            0                      0                    0                  0   \n",
        "2            0                      0                    0                  1   \n",
        "\n",
        "   workclass_Self-employed  workclass_Unemployed  \n",
        "0                        0                     0  \n",
        "1                        1                     0  \n",
        "2                        0                     0  "
       ]
      }
     ],
     "prompt_number": 36
    },
    {
     "cell_type": "markdown",
     "metadata": {},
     "source": [
      "Preprecess continuous variables"
     ]
    },
    {
     "cell_type": "code",
     "collapsed": false,
     "input": [
      "from sklearn.preprocessing import scale\n",
      "scale(data_with_labels.age)"
     ],
     "language": "python",
     "metadata": {},
     "outputs": [
      {
       "metadata": {},
       "output_type": "pyout",
       "prompt_number": 37,
       "text": [
        "array([ 0.03067056,  0.83710898, -0.04264203, ...,  1.42360965,\n",
        "       -1.21564337,  0.98373415])"
       ]
      }
     ],
     "prompt_number": 37
    },
    {
     "cell_type": "code",
     "collapsed": true,
     "input": [
      "from itertools import chain\n",
      "\n",
      "def get_dummies(df, columns):\n",
      "    return [pd.get_dummies(df[column], prefix=column)\n",
      "            for column in columns]\n",
      "\n",
      "def get_scaled(df, columns):\n",
      "    return [pd.DataFrame({column: scale(data[column])})\n",
      "            for column in columns]\n",
      "    \n",
      "training_data = pd.concat(\n",
      "                    get_scaled(data_with_labels, \n",
      "                               ['age', 'hours_per_week']) + \n",
      "                    get_dummies(data_with_labels, \n",
      "                                ['workclass', 'education',\n",
      "                                 'marital_status', 'relationship',\n",
      "                                 'race', 'capital_gain_boolean',\n",
      "                                 'sex', 'capital_loss_boolean',\n",
      "                                 ])\n",
      "                , axis=1)\n",
      "\n",
      "training_labels = data_with_labels.label\n",
      "\n",
      "print training_data.shape\n",
      "training_data.head(n=3)"
     ],
     "language": "python",
     "metadata": {},
     "outputs": [
      {
       "output_type": "stream",
       "stream": "stdout",
       "text": [
        "(32561, 45)\n"
       ]
      },
      {
       "html": [
        "<div style=\"max-height:1000px;max-width:1500px;overflow:auto;\">\n",
        "<table border=\"1\" class=\"dataframe\">\n",
        "  <thead>\n",
        "    <tr style=\"text-align: right;\">\n",
        "      <th></th>\n",
        "      <th>age</th>\n",
        "      <th>hours_per_week</th>\n",
        "      <th>workclass_?</th>\n",
        "      <th>workclass_Federal-gov</th>\n",
        "      <th>workclass_Goverment</th>\n",
        "      <th>workclass_Private</th>\n",
        "      <th>workclass_Self-employed</th>\n",
        "      <th>workclass_Unemployed</th>\n",
        "      <th>education_ 10th</th>\n",
        "      <th>education_ 11th</th>\n",
        "      <th>...</th>\n",
        "      <th>race_ Asian-Pac-Islander</th>\n",
        "      <th>race_ Black</th>\n",
        "      <th>race_ Other</th>\n",
        "      <th>race_ White</th>\n",
        "      <th>capital_gain_boolean_False</th>\n",
        "      <th>capital_gain_boolean_True</th>\n",
        "      <th>sex_ Female</th>\n",
        "      <th>sex_ Male</th>\n",
        "      <th>capital_loss_boolean_False</th>\n",
        "      <th>capital_loss_boolean_True</th>\n",
        "    </tr>\n",
        "  </thead>\n",
        "  <tbody>\n",
        "    <tr>\n",
        "      <th>0</th>\n",
        "      <td> 0.030671</td>\n",
        "      <td>-0.035429</td>\n",
        "      <td> 0</td>\n",
        "      <td> 0</td>\n",
        "      <td> 1</td>\n",
        "      <td> 0</td>\n",
        "      <td> 0</td>\n",
        "      <td> 0</td>\n",
        "      <td> 0</td>\n",
        "      <td> 0</td>\n",
        "      <td>...</td>\n",
        "      <td> 0</td>\n",
        "      <td> 0</td>\n",
        "      <td> 0</td>\n",
        "      <td> 1</td>\n",
        "      <td> 0</td>\n",
        "      <td> 1</td>\n",
        "      <td> 0</td>\n",
        "      <td> 1</td>\n",
        "      <td> 1</td>\n",
        "      <td> 0</td>\n",
        "    </tr>\n",
        "    <tr>\n",
        "      <th>1</th>\n",
        "      <td> 0.837109</td>\n",
        "      <td>-2.222153</td>\n",
        "      <td> 0</td>\n",
        "      <td> 0</td>\n",
        "      <td> 0</td>\n",
        "      <td> 0</td>\n",
        "      <td> 1</td>\n",
        "      <td> 0</td>\n",
        "      <td> 0</td>\n",
        "      <td> 0</td>\n",
        "      <td>...</td>\n",
        "      <td> 0</td>\n",
        "      <td> 0</td>\n",
        "      <td> 0</td>\n",
        "      <td> 1</td>\n",
        "      <td> 1</td>\n",
        "      <td> 0</td>\n",
        "      <td> 0</td>\n",
        "      <td> 1</td>\n",
        "      <td> 1</td>\n",
        "      <td> 0</td>\n",
        "    </tr>\n",
        "    <tr>\n",
        "      <th>2</th>\n",
        "      <td>-0.042642</td>\n",
        "      <td>-0.035429</td>\n",
        "      <td> 0</td>\n",
        "      <td> 0</td>\n",
        "      <td> 0</td>\n",
        "      <td> 1</td>\n",
        "      <td> 0</td>\n",
        "      <td> 0</td>\n",
        "      <td> 0</td>\n",
        "      <td> 0</td>\n",
        "      <td>...</td>\n",
        "      <td> 0</td>\n",
        "      <td> 0</td>\n",
        "      <td> 0</td>\n",
        "      <td> 1</td>\n",
        "      <td> 1</td>\n",
        "      <td> 0</td>\n",
        "      <td> 0</td>\n",
        "      <td> 1</td>\n",
        "      <td> 1</td>\n",
        "      <td> 0</td>\n",
        "    </tr>\n",
        "  </tbody>\n",
        "</table>\n",
        "<p>3 rows \u00d7 45 columns</p>\n",
        "</div>"
       ],
       "metadata": {},
       "output_type": "pyout",
       "prompt_number": 38,
       "text": [
        "        age  hours_per_week  workclass_?  workclass_Federal-gov  \\\n",
        "0  0.030671       -0.035429            0                      0   \n",
        "1  0.837109       -2.222153            0                      0   \n",
        "2 -0.042642       -0.035429            0                      0   \n",
        "\n",
        "   workclass_Goverment  workclass_Private  workclass_Self-employed  \\\n",
        "0                    1                  0                        0   \n",
        "1                    0                  0                        1   \n",
        "2                    0                  1                        0   \n",
        "\n",
        "   workclass_Unemployed  education_ 10th  education_ 11th       ...         \\\n",
        "0                     0                0                0       ...          \n",
        "1                     0                0                0       ...          \n",
        "2                     0                0                0       ...          \n",
        "\n",
        "   race_ Asian-Pac-Islander  race_ Black  race_ Other  race_ White  \\\n",
        "0                         0            0            0            1   \n",
        "1                         0            0            0            1   \n",
        "2                         0            0            0            1   \n",
        "\n",
        "   capital_gain_boolean_False  capital_gain_boolean_True  sex_ Female  \\\n",
        "0                           0                          1            0   \n",
        "1                           1                          0            0   \n",
        "2                           1                          0            0   \n",
        "\n",
        "   sex_ Male  capital_loss_boolean_False  capital_loss_boolean_True  \n",
        "0          1                           1                          0  \n",
        "1          1                           1                          0  \n",
        "2          1                           1                          0  \n",
        "\n",
        "[3 rows x 45 columns]"
       ]
      }
     ],
     "prompt_number": 38
    },
    {
     "cell_type": "code",
     "collapsed": false,
     "input": [
      "from sklearn.cross_validation import train_test_split\n",
      "\n",
      "train_data, test_data, train_labels, test_labels = \\\n",
      "    train_test_split(training_data.values, training_labels.values,\n",
      "                     test_size=0.3)"
     ],
     "language": "python",
     "metadata": {},
     "outputs": [],
     "prompt_number": 39
    },
    {
     "cell_type": "code",
     "collapsed": false,
     "input": [
      "from sklearn.linear_model import LogisticRegression\n",
      "lr = LogisticRegression()\n",
      "lr.fit(train_data, train_labels)\n",
      "predictions = lr.predict(test_data)\n",
      "\n",
      "print (predictions == test_labels).mean()"
     ],
     "language": "python",
     "metadata": {},
     "outputs": [
      {
       "output_type": "stream",
       "stream": "stdout",
       "text": [
        "0.841232470058\n"
       ]
      }
     ],
     "prompt_number": 42
    },
    {
     "cell_type": "code",
     "collapsed": false,
     "input": [
      "from sklearn.metrics import classification_report\n",
      "\n",
      "print \"Training:\"\n",
      "print classification_report(train_labels, lr.predict(train_data))\n",
      "\n",
      "print \"Test:\"\n",
      "print classification_report(test_labels, lr.predict(test_data))"
     ],
     "language": "python",
     "metadata": {},
     "outputs": [
      {
       "output_type": "stream",
       "stream": "stdout",
       "text": [
        "Training:\n",
        "             precision    recall  f1-score   support\n",
        "\n",
        "      <=50K       0.87      0.92      0.89     17280\n",
        "       >50K       0.70      0.56      0.62      5512\n",
        "\n",
        "avg / total       0.83      0.83      0.83     22792\n"
       ]
      },
      {
       "output_type": "stream",
       "stream": "stdout",
       "text": [
        "\n",
        "Test:\n",
        "             precision    recall  f1-score   support\n",
        "\n",
        "      <=50K       0.87      0.93      0.90      7440\n",
        "       >50K       0.72      0.55      0.62      2329\n",
        "\n",
        "avg / total       0.83      0.84      0.83      9769\n",
        "\n"
       ]
      }
     ],
     "prompt_number": 44
    },
    {
     "cell_type": "code",
     "collapsed": false,
     "input": [
      "from sklearn.tree import DecisionTreeClassifier\n",
      "for clf in [LogisticRegression(), DecisionTreeClassifier()]:\n",
      "    clf.fit(train_data, train_labels)\n",
      "    print clf.__class__.__name__\n",
      "    print \"Training:\"\n",
      "    print classification_report(train_labels, clf.predict(train_data))\n",
      "\n",
      "    print \"Test:\"\n",
      "    print classification_report(test_labels, clf.predict(test_data))"
     ],
     "language": "python",
     "metadata": {},
     "outputs": [
      {
       "output_type": "stream",
       "stream": "stdout",
       "text": [
        "LogisticRegression\n",
        "Training:\n",
        "             precision    recall  f1-score   support\n",
        "\n",
        "      <=50K       0.87      0.92      0.89     17280\n",
        "       >50K       0.70      0.56      0.62      5512\n",
        "\n",
        "avg / total       0.83      0.83      0.83     22792\n"
       ]
      },
      {
       "output_type": "stream",
       "stream": "stdout",
       "text": [
        "\n",
        "Test:\n",
        "             precision    recall  f1-score   support\n",
        "\n",
        "      <=50K       0.87      0.93      0.90      7440\n",
        "       >50K       0.72      0.55      0.62      2329\n",
        "\n",
        "avg / total       0.83      0.84      0.83      9769\n",
        "\n",
        "DecisionTreeClassifier"
       ]
      },
      {
       "output_type": "stream",
       "stream": "stdout",
       "text": [
        "\n",
        "Training:\n",
        "             precision    recall  f1-score   support\n",
        "\n",
        "      <=50K       0.95      0.98      0.97     17280\n",
        "       >50K       0.94      0.83      0.88      5512\n",
        "\n",
        "avg / total       0.95      0.95      0.95     22792\n"
       ]
      },
      {
       "output_type": "stream",
       "stream": "stdout",
       "text": [
        "\n",
        "Test:\n",
        "             precision    recall  f1-score   support\n",
        "\n",
        "      <=50K       0.85      0.89      0.87      7440\n",
        "       >50K       0.58      0.51      0.54      2329\n",
        "\n",
        "avg / total       0.79      0.80      0.79      9769\n",
        "\n"
       ]
      }
     ],
     "prompt_number": 45
    },
    {
     "cell_type": "code",
     "collapsed": false,
     "input": [
      "import pickle \n",
      "\n",
      "with open(\"adults-model.pickle\", \"wb\") as model_file:\n",
      "    pickle.dump(clf, model_file)"
     ],
     "language": "python",
     "metadata": {},
     "outputs": [],
     "prompt_number": 46
    },
    {
     "cell_type": "markdown",
     "metadata": {},
     "source": [
      "# BigData"
     ]
    },
    {
     "cell_type": "markdown",
     "metadata": {},
     "source": [
      "## Hadoop Streaming\n",
      "\n",
      "## Spark\n",
      "\n",
      "> Apache Spark\u2122 is a fast and general engine for large-scale data processing.\n",
      "\n",
      "- Resilient distributed dasets\n",
      "- Advanced DAG execution engine\n",
      "- Lazy evaluation\n",
      "- Can keep data in memory\n",
      "- Can run on top of YARN\n",
      "- **Official Python support**"
     ]
    },
    {
     "cell_type": "markdown",
     "metadata": {},
     "source": [
      "# Stream processing\n",
      "\n",
      "- Hadoop / Spark (*) are batch-processing systems\n",
      "    - They use data stored on HDFS / S3 / other storage\n",
      "    - Process large datasets\n",
      "- Recently, there is a huge need for realtime Big Data\n",
      "- We want to process massive amounts of stream of data in distributed and fault-tolerant way\n",
      "- E.g. scale our models to score things in real-time\n",
      "\n",
      "## Apache Storm\n",
      "\n",
      "- Distributed computation framework for stream-processing\n",
      "- Storm apps are designed as DAG (topology)\n",
      "- Simple abstractions\n",
      "    - **Tuple**: data\n",
      "    - **Spout**: source of data (e.g. Kafka)\n",
      "    - **Bolt**: processing unit\n",
      "- Many use cases: realtime analytics, online machine learning, continuous computation, distributed RPC, ETL, and more.\n",
      "- Scalable, fault-tolerant, guarantees-data-processing\n",
      "- Supports any language, but official support only for Clojure/Java\n",
      "\n",
      "## Streamparse \n",
      "\n",
      "- Python framework for Storm from Parsely\n"
     ]
    },
    {
     "cell_type": "markdown",
     "metadata": {},
     "source": [
      "```bash\n",
      "\n",
      "> sparse quickstart datakrk\n",
      "\n",
      "Creating your datakrk streamparse project...\n",
      "    create    datakrk\n",
      "    create    datakrk/.gitignore\n",
      "    create    datakrk/config.json\n",
      "    create    datakrk/fabfile.py\n",
      "    create    datakrk/project.clj\n",
      "    create    datakrk/README.md\n",
      "    create    datakrk/src\n",
      "    create    datakrk/src/bolts/\n",
      "    create    datakrk/src/bolts/__init__.py\n",
      "    create    datakrk/src/bolts/wordcount.py\n",
      "    create    datakrk/src/spouts/\n",
      "    create    datakrk/src/spouts/__init__.py\n",
      "    create    datakrk/src/spouts/words.py\n",
      "    create    datakrk/tasks.py\n",
      "    create    datakrk/topologies\n",
      "    create    datakrk/topologies/datakrk.clj\n",
      "    create    datakrk/virtualenvs\n",
      "    create    datakrk/virtualenvs/datakrk.txt\n",
      "Done.\n",
      "\n",
      "Try running your topology locally with:\n",
      "\n",
      "    cd datakrk\n",
      "    sparse run\n",
      "    \n",
      "```"
     ]
    },
    {
     "cell_type": "markdown",
     "metadata": {},
     "source": [
      "**`datakrk/src/spouts/words.py`**:\n",
      "\n",
      "```python\n",
      "\n",
      "from __future__ import absolute_import\n",
      "\n",
      "import itertools\n",
      "from streamparse.spout import Spout\n",
      "\n",
      "class WordSpout(Spout):\n",
      "\n",
      "    def initialize(self, stormconf, context):\n",
      "        self.words = itertools.cycle(['dog', 'cat',\n",
      "                                      'zebra', 'elephant'])\n",
      "\n",
      "    def next_tuple(self):\n",
      "        word = next(self.words)\n",
      "        self.emit([word])\n",
      "```\n",
      "\n",
      "\n",
      "**`datakrk/src/bolts/wordcount.py`**:\n",
      "\n",
      "```python\n",
      "from __future__ import absolute_import\n",
      "\n",
      "from collections import Counter\n",
      "from streamparse.bolt import Bolt\n",
      "\n",
      "\n",
      "class WordCounter(Bolt):\n",
      "\n",
      "    def initialize(self, conf, ctx):\n",
      "        self.counts = Counter()\n",
      "\n",
      "    def process(self, tup):\n",
      "        word = tup.values[0]\n",
      "        self.counts[word] += 1\n",
      "        self.emit([word, self.counts[word]])\n",
      "        self.log('%s: %d' % (word, self.counts[word]))\n",
      "```"
     ]
    },
    {
     "cell_type": "markdown",
     "metadata": {},
     "source": [
      "Create simple machine learning topology:\n",
      "\n",
      "\n",
      "**`datakrk/src/spouts/adults.py`**:\n",
      "\n",
      "```python\n",
      "\n",
      "from __future__ import absolute_import\n",
      "\n",
      "import itertools\n",
      "from streamparse.spout import Spout\n",
      "\n",
      "class AdultsSpout(Spout):\n",
      "\n",
      "    def initialize(self, stormconf, context):\n",
      "    \n",
      "        self.data = itertools.cycle([\n",
      "            '1,39.0, State-gov,77516.0, Bachelors,13.0, Never-married, Adm-clerical, Not-in-family, White, Male,2174.0,0.0,40.0, United-States',\n",
      "            '2,50.0, Self-emp-not-inc,83311.0, Bachelors,13.0, Married-civ-spouse, Exec-managerial, Husband, White, Male,0.0,0.0,13.0, United-States',\n",
      "            '3,38.0, Private,215646.0, HS-grad,9.0, Divorced, Handlers-cleaners, Not-in-family, White, Male,0.0,0.0,40.0, United-States',\n",
      "        ])\n",
      "\n",
      "    def next_tuple(self):\n",
      "        row = next(self.data)\n",
      "        self.emit([row])\n",
      "```\n",
      "\n",
      "\n",
      "**`datakrk/src/bolts/classifier.py`**:\n",
      "\n",
      "```python\n",
      "from __future__ import absolute_import\n",
      "\n",
      "from collections import Counter\n",
      "from streamparse.bolt import Bolt\n",
      "\n",
      "import pandas as pd\n",
      "\n",
      "class ClassifierBolt(Bolt):\n",
      "\n",
      "    def initialize(self, conf, ctx):\n",
      "        with open(\"/vol/data/adult-model.pickle\", \"rb\") as model_file:\n",
      "            self.model = pickle.load(model_file)\n",
      "\n",
      "    def process(self, tup):\n",
      "        data = transform_data(tup.values[0])\n",
      "        prediction = self.model.predict(data.values)\n",
      "        self.emit([data[0].id, prediction])\n",
      "        self.log('Prediction for id %d: %s' % (word, prediction))\n",
      "        \n",
      "    def transform_data(pre_data):\n",
      "        # Use logic from this notebook\n",
      "        \n",
      "        # One caveat: get_dummies on single example extracts only single column\n",
      "        \n",
      "        # Return DataFrame with single row\n",
      "        \n",
      "```"
     ]
    }
   ],
   "metadata": {}
  }
 ]
}